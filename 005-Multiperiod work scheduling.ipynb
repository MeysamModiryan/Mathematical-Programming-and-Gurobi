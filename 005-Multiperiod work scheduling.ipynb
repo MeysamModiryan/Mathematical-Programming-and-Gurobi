{
 "cells": [
  {
   "cell_type": "markdown",
   "metadata": {},
   "source": [
    "# Table of Contents"
   ]
  },
  {
   "cell_type": "markdown",
   "metadata": {},
   "source": [
    "1. [**Problem Description**](#1)\n",
    "2. [**Gurobi**](#2)\n",
    "3. [**Reference**](#3)"
   ]
  },
  {
   "cell_type": "markdown",
   "metadata": {},
   "source": [
    "# 1- Problem Description <a id=\"1\"></a>"
   ]
  },
  {
   "cell_type": "markdown",
   "metadata": {},
   "source": [
    "<b> CSL is a chain of computer service stores. The number of hours of skilled repair time that CSL requires during the next five months is as follows:<br>\n",
    "<ol><b>\n",
    "    <li>Month 1 (January): 6000</li>\n",
    "    <li>Month 2 (February): 7000</li>\n",
    "    <li>Month 3 (March): 8000</li>\n",
    "    <li>Month 4 (April): 9500</li>\n",
    "    <li>Month 5 (May): 11000</li>\n",
    "    </b>\n",
    "</ol>\n",
    "    \n",
    "<b>At the beginning of January, 50 skilled technicians work for CSL. Each skilled technician can work up to 160 hours per month. To meet future demands, new technicians must be trained. It takes one month to train a new technician. During the month of training, a trainee must be supervised for 50 hours by an experienced technician. Each experienced technician is paid $2000 a month (even if he/she does not work the full 160 hours).\n",
    "During the month of training , a trainee is paid 1000 dollars a month. At the end of each month, 5% of CSL's experienced technicians quit to join Plum Computers. Formulate an LP whos solution will enable CSL to minimize the labor cost incurred in meeting the service requirements for the next five months.</b>"
   ]
  },
  {
   "cell_type": "markdown",
   "metadata": {},
   "source": [
    "## Mathematical Model\n",
    "\n",
    "**sets**:<br>\n",
    "**T**: Period of time = {'January', 'February', 'March', 'April', 'May'}<br>\n",
    "\n",
    "**Parameter**:<br>\n",
    "experienced technicians cost = 2000 dollars (EX_Tech_Cost)<br>\n",
    "trainess cost = 1000 dollars (Trainess_Cost)<br>\n",
    "Ex_Tech_Availabel = 160 h<br>\n",
    "Trainee_requires = 50h<br>\n",
    "Requires = [6000, 7000, 8000, 9500, 11000]<br>\n",
    "\n",
    "**Variables**:<br>\n",
    "$X_{t}$: *Number of technicians trained during month t<br>\n",
    "$Y_{t}$: *Number of experienced technicians at the begining of the month t\n",
    "\n",
    "## Model Formulation:\n",
    "\n",
    "$$\\begin{align}\n",
    "\\min Z= & TrainessCost*\\sum_{t \\in T} X_{t} + ExTechCost*\\sum_{t \\in T}Y_{t}\\\\\n",
    "\\text{S.t:}\n",
    "&ExTechAvailabel*Y_{t} - TraineeRequires*X_{t} \\ge Requires_{t} &\\forall t \\in T\\\\\n",
    "& Y_{1} = 50\\\\\n",
    "& Y_{t} = X_{t-1} + (1 - 0.05)*Y_{t-1} &\\forall t \\in T, t\\ge2\\\\\n",
    "&X_{t},  Y_{t} \\ge 0 &\\forall t \\in T\\\\\n",
    "\\end{align}$$"
   ]
  },
  {
   "cell_type": "markdown",
   "metadata": {},
   "source": [
    "# 2- Gurobi <a id=\"2\"></a>"
   ]
  },
  {
   "cell_type": "markdown",
   "metadata": {},
   "source": [
    "### Import packages"
   ]
  },
  {
   "cell_type": "code",
   "execution_count": 2,
   "metadata": {},
   "outputs": [],
   "source": [
    "from gurobipy import GRB,Model\n",
    "import numpy as np"
   ]
  },
  {
   "cell_type": "markdown",
   "metadata": {},
   "source": [
    "### Parameters Definition"
   ]
  },
  {
   "cell_type": "code",
   "execution_count": 3,
   "metadata": {},
   "outputs": [],
   "source": [
    "T = {'January', 'February', 'March', 'April', 'May'}\n",
    "\n",
    "Variabels = [['X'+str(t) for t in range(len(T))], ['Y'+str(t) for t in range(len(T))]]\n",
    "\n",
    "Parameters = {\"Ex_Cost\"  : 2000,\n",
    "              \"Tr_Cost\"  : 1000,\n",
    "              \"Ex_Avail\" : 160,\n",
    "              \"Tr_req\"   : 50,\n",
    "              \"quit_per\" : 0.05,\n",
    "              \"Requires\" : np.array([6000, 7000, 8000, 9500, 11000])}"
   ]
  },
  {
   "cell_type": "code",
   "execution_count": 4,
   "metadata": {},
   "outputs": [],
   "source": [
    "def output(m):  \n",
    "    status_code = {1:'LOADED',\n",
    "                   2: 'OPTIMAL',\n",
    "                   3:'INFEASIBLE',\n",
    "                   4:'INF_OR_UNBD',\n",
    "                   5:'UNBOUNDED'}\n",
    "    \n",
    "    status = m.status\n",
    "    print(f'The optimization status is: {status_code[status]}')\n",
    "    \n",
    "    if status == 2:\n",
    "        print('Optimal solution:')\n",
    "        for var in m.getVars():\n",
    "            print(f'{var.varName} = {var.x}')\n",
    "        print(f'Optimal Objective Function = {m.objVal}')"
   ]
  },
  {
   "cell_type": "code",
   "execution_count": 5,
   "metadata": {},
   "outputs": [],
   "source": [
    "def Gurobi_Model(Var, Param):\n",
    "    \n",
    "    model = Model(\"Multiperiod Work Scheduling\")\n",
    "    \n",
    "    model.setParam('OutputFlag', True)\n",
    "    t = len(Var[0])\n",
    "    E_C = Param[\"Ex_Cost\"]\n",
    "    T_C = Param[\"Tr_Cost\"]\n",
    "    E_A = Param[\"Ex_Avail\"]\n",
    "    T_R = Param[\"Tr_req\"]\n",
    "    Q_P = Param[\"quit_per\"]\n",
    "    Req = Param[\"Requires\"]\n",
    "    \n",
    "    X = model.addVars(t, lb=0, ub=GRB.INFINITY, vtype = GRB.CONTINUOUS, name = Var[0])\n",
    "    Y = model.addVars(t, lb=0, ub=GRB.INFINITY, vtype = GRB.CONTINUOUS, name = Var[1])\n",
    "    \n",
    "    model.setObjective(E_C*Y.sum(\"*\") + T_C*X.sum(\"*\"), GRB.MINIMIZE)\n",
    "    \n",
    "    model.addConstrs(E_A*Y[i] - T_R*X[i] >= Req[i] for i in range(t))\n",
    "    model.addConstr (Y[0] == 50)\n",
    "    model.addConstrs(Y[i] == (1-Q_P)*Y[i-1] + X[i-1] for i in range(t) if i>0)\n",
    "    \n",
    "    model.optimize()\n",
    "    \n",
    "    output(model)"
   ]
  },
  {
   "cell_type": "code",
   "execution_count": 6,
   "metadata": {},
   "outputs": [
    {
     "name": "stdout",
     "output_type": "stream",
     "text": [
      "Restricted license - for non-production use only - expires 2024-10-28\n",
      "Gurobi Optimizer version 10.0.0 build v10.0.0rc2 (linux64)\n",
      "\n",
      "CPU model: Intel(R) Core(TM) i5-4210U CPU @ 1.70GHz, instruction set [SSE2|AVX|AVX2]\n",
      "Thread count: 2 physical cores, 4 logical processors, using up to 4 threads\n",
      "\n",
      "Optimize a model with 10 rows, 10 columns and 23 nonzeros\n",
      "Model fingerprint: 0xeb36277c\n",
      "Coefficient statistics:\n",
      "  Matrix range     [9e-01, 2e+02]\n",
      "  Objective range  [1e+03, 2e+03]\n",
      "  Bounds range     [0e+00, 0e+00]\n",
      "  RHS range        [5e+01, 1e+04]\n",
      "Presolve removed 6 rows and 5 columns\n",
      "Presolve time: 0.03s\n",
      "Presolved: 4 rows, 5 columns, 12 nonzeros\n",
      "\n",
      "Iteration    Objective       Primal Inf.    Dual Inf.      Time\n",
      "       0   -1.3815789e+32   9.847862e+29   1.381579e+02      0s\n",
      "       3    5.9377651e+05   0.000000e+00   0.000000e+00      0s\n",
      "\n",
      "Solved in 3 iterations and 0.05 seconds (0.00 work units)\n",
      "Optimal objective  5.937765097e+05\n",
      "The optimization status is: OPTIMAL\n",
      "Optimal solution:\n",
      "X0 = 0.0\n",
      "X1 = 8.453168094062995\n",
      "X2 = 11.450137901001598\n",
      "X3 = 9.518072289156626\n",
      "X4 = 0.0\n",
      "Y0 = 50.0\n",
      "Y1 = 47.5\n",
      "Y2 = 53.578168094062995\n",
      "Y3 = 62.34939759036145\n",
      "Y4 = 68.75\n",
      "Optimal Objective Function = 593776.5096530701\n"
     ]
    }
   ],
   "source": [
    "Gurobi_Model(Variabels, Parameters)"
   ]
  },
  {
   "cell_type": "markdown",
   "metadata": {},
   "source": [
    "# 3- Reference <a id='3'></a>\n",
    "[**Operations Research** Wayne L.Winston, page109](https://itslearningakarmazyan.files.wordpress.com/2015/09/operation-research-aplications-and-algorithms.pdf)"
   ]
  },
  {
   "cell_type": "code",
   "execution_count": null,
   "metadata": {},
   "outputs": [],
   "source": []
  }
 ],
 "metadata": {
  "kernelspec": {
   "display_name": "Python 3",
   "language": "python",
   "name": "python3"
  },
  "language_info": {
   "codemirror_mode": {
    "name": "ipython",
    "version": 3
   },
   "file_extension": ".py",
   "mimetype": "text/x-python",
   "name": "python",
   "nbconvert_exporter": "python",
   "pygments_lexer": "ipython3",
   "version": "3.8.5"
  }
 },
 "nbformat": 4,
 "nbformat_minor": 4
}
